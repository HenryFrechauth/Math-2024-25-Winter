{
  "cells": [
    {
      "cell_type": "markdown",
      "metadata": {
        "id": "uG4gAK3b_Z47"
      },
      "source": [
        "# Basic Matrix Operations\n",
        "\n",
        "### Matrix Addition\n",
        "\n",
        "Let $A=[a_{ij}]$ and $B=[b_{ij}]$ be two matrices of dimensions $m \\times n$. Then the sum of matrices $A$ and $B$ is the matrix $C=[c_{ij}]$ of dimensions $m \\times n$, where $c_{ij}=a_{ij}+b_{ij}$.\n",
        "\n",
        "### Matrix Scalar Multiplication\n",
        "\n",
        "Let $A=[a_{ij}]$ be a matrix of dimensions $m \\times n$, and let $k$ be a scalar. Then the product of matrix $A$ and scalar $k$ is the matrix $B=[b_{ij}]$ of dimensions $m \\times n$, where $b_{ij}=k \\cdot a_{ij}$.\n",
        "\n",
        "### Matrix Multiplication\n",
        "\n",
        "Let $A=[a_{ij}]$ be a matrix of dimensions $m \\times n$, and $B=[b_{ij}]$ be a matrix of dimensions $n \\times p$. Then the product of matrices $A$ and $B$ is the matrix $C=[c_{ij}]$ of dimensions $m \\times p$, where $c_{ij}=\\sum_{k=1}^{n} a_{ik} \\cdot b_{kj}$.\n",
        "\n",
        "\n",
        "### Example 1\n",
        "\n",
        "Let $A=\\begin{bmatrix} 1 & 2 \\\\ 3 & 4 \\end{bmatrix}$ and $B=\\begin{bmatrix} 5 & 6 \\\\ 7 & 8 \\end{bmatrix}$.\n",
        "Then the sum of matrices $A$ and $B$ is\n",
        "\n",
        "$$\n",
        "C=\n",
        "A+B=\\begin{bmatrix} 1+5 & 2+6 \\\\ 3+7 & 4+8 \\end{bmatrix}=\\begin{bmatrix} 6 & 8 \\\\ 10 & 12 \\end{bmatrix}.\n",
        "$$\n",
        "\n",
        "### Example 2\n",
        "\n",
        "Let $A=\\begin{bmatrix} 1 & 2 \\\\ 3 & 4 \\end{bmatrix}$ and $k=2$.\n",
        "\n",
        "Then the product of matrix $A$ and scalar $k$ is\n",
        "\n",
        "$$\n",
        "B=\n",
        "k \\cdot A=2 \\cdot \\begin{bmatrix} 1 & 2 \\\\ 3 & 4 \\end{bmatrix}=\\begin{bmatrix} 2*1 & 2*2 \\\\ 2*3 & 2*4 \\end{bmatrix}=\\begin{bmatrix} 2 & 4 \\\\ 6 & 8 \\end{bmatrix}.\n",
        "$$\n",
        "\n",
        "### Example 3\n",
        "\n",
        "Let\n",
        "$A=\\begin{bmatrix} 1 & 2 \\\\ 3 & 4 \\end{bmatrix}$\n",
        "and\n",
        "$B=\\begin{bmatrix} 5 & 6 \\\\ 7 & 8 \\end{bmatrix}$.\n",
        "\n",
        "Then the product of matrices $A$ and $B$ is\n",
        "\n",
        "$$\n",
        "C=\n",
        "A \\cdot B=\\begin{bmatrix} 1*5+2*7 & 1*6+2*8 \\\\ 3*5+4*7 & 3*6+4*8 \\end{bmatrix}=\\begin{bmatrix} 19 & 22 \\\\ 43 & 50 \\end{bmatrix}.\n",
        "$$"
      ]
    },
    {
      "cell_type": "code",
      "execution_count": null,
      "metadata": {
        "id": "l0ngIxk2_Z48"
      },
      "outputs": [],
      "source": [
        "# Example 1: Matrix addition in sympy\n",
        "import sympy as sp\n",
        "\n",
        "A=sp.Matrix([[1,2],[3,4]])\n",
        "B=sp.Matrix([[5,6],[7,8]])\n",
        "A # display matrix A"
      ]
    },
    {
      "cell_type": "code",
      "execution_count": null,
      "metadata": {
        "id": "a8Bok3Bs_Z49"
      },
      "outputs": [],
      "source": [
        "B # display matrix B"
      ]
    },
    {
      "cell_type": "code",
      "execution_count": null,
      "metadata": {
        "id": "lxbJnfwX_Z49"
      },
      "outputs": [],
      "source": [
        "sp.Matrix([[6,8],[10,12]])==A+B # verify matrix addition"
      ]
    },
    {
      "cell_type": "code",
      "execution_count": null,
      "metadata": {
        "id": "R4gCNXPj_Z49"
      },
      "outputs": [],
      "source": [
        "# Example 2: Scalar multiplication\n",
        "A=sp.Matrix([[1,2],[3,4]]) # define matrix A\n",
        "\n",
        "sp.Matrix([[2,4],[6,8]])==2*A # verify scalar multiplication"
      ]
    },
    {
      "cell_type": "code",
      "execution_count": null,
      "metadata": {
        "id": "8k_0gkJY_Z49"
      },
      "outputs": [],
      "source": [
        "# Example 3: Multiplication of two matrices\n",
        "\n",
        "A=sp.Matrix([[1,2],[3,4]]) # define matrix A\n",
        "B=sp.Matrix([[5,6],[7,8]]) # define matrix B\n",
        "\n",
        "sp.Matrix([[19,22],[43,50]])==A*B # verify matrix multiplication"
      ]
    },
    {
      "cell_type": "markdown",
      "metadata": {
        "id": "N0WV_J-l_Z49"
      },
      "source": [
        "### Necessary Condition for Matrix Multiplication\n",
        "\n",
        "Remember that matrices can have different numbers of rows and columns.\n",
        "\n",
        "To multiply two matrices $A_{m \\times n}$ and $B_{n \\times k}$, where $A$ has dimensions $m \\times n$ and $B$ has dimensions $n \\times k$, the number of columns of matrix $A$ must equal the number of rows of matrix $B$. Otherwise, matrix multiplication is not possible.\n",
        "\n",
        "$$\n",
        "A_{m \\times n} \\cdot B_{n \\times k} = C_{m \\times k}\n",
        "$$\n",
        "\n",
        "For example, if $A_{3 \\times 3}$ and $B_{3 \\times 3}$, then the resulting matrix $C_{3 \\times 3}$.\n",
        "\n",
        "<img src=\"https://www.mscroggs.co.uk/img/full/multiply_matrices.gif\" alt=\"Matrix Multiplication GIF\" width=\"400\">\n",
        "\n",
        "### Matrix Multiplication is Not Commutative\n",
        "\n",
        "Matrix multiplication is not commutative, i.e., in general $A \\cdot B \\neq B \\cdot A$."
      ]
    },
    {
      "cell_type": "code",
      "execution_count": null,
      "metadata": {
        "id": "F9CxISEv_Z49"
      },
      "outputs": [],
      "source": [
        "# Example of multiplying rectangular matrices\n",
        "import sympy as sp\n",
        "A=sp.Matrix([[1,2],[3,4],[5,6]]) # define matrix A_{3 x 2}\n",
        "B=sp.Matrix([[1,2,3],[4,5,6]]) # define matrix B_{2 x 3}\n",
        "C=sp.Matrix([[9,12,15],[19,26,33],[29,40,51]]) # define matrix C_{3 x 3}\n",
        "\n",
        "A*B # multiply matrices A and B to get a 3x3 matrix"
      ]
    },
    {
      "cell_type": "code",
      "execution_count": null,
      "metadata": {
        "id": "LK-t9nsR_Z4-"
      },
      "outputs": [],
      "source": [
        "B*A # multiply matrices B and A to get a 2x2 matrix"
      ]
    },
    {
      "cell_type": "code",
      "execution_count": null,
      "metadata": {
        "id": "nnjMJ8YA_Z4-"
      },
      "outputs": [],
      "source": [
        "B*C # multiply matrices B and C to get a 2x3 matrix"
      ]
    },
    {
      "cell_type": "markdown",
      "metadata": {
        "id": "_STjDCf0_Z4-"
      },
      "source": [
        "---\n",
        "## Exercises for Students\n",
        "\n",
        "1. Calculate the sum of matrices $A=\\begin{bmatrix} 1 & 2 \\\\ 3 & 4 \\end{bmatrix}$ and $B=\\begin{bmatrix} 5 & 6 \\\\ 7 & 8 \\end{bmatrix}$.\n",
        "\n",
        "2. Calculate the product of matrix $A=\\begin{bmatrix} 4 & 2 \\\\ 12 & 4 \\end{bmatrix}$ and scalar $k=\\frac{1}{4}$.\n",
        "\n",
        "3. Calculate the products $A\\cdot B$ and $B \\cdot A$ for matrices $A=\\begin{bmatrix} 3 & 2 \\\\ 2 & 4 \\end{bmatrix}$ and $B=\\begin{bmatrix} 4 & 1 \\\\ 6 & 4 \\end{bmatrix}$."
      ]
    },
    {
      "cell_type": "code",
      "source": [
        "import sympy as sp\n",
        "\n",
        "A = sp.Matrix([[1, 2], [3, 4]])\n",
        "B = sp.Matrix([[5, 6], [7, 8]])\n",
        "\n",
        "C = A + B  # Calculate the sum of A and B\n",
        "C           # Display the resulting matrix C"
      ],
      "metadata": {
        "id": "rj2WlLnRQFaP",
        "outputId": "72d9bcf6-7595-4aaf-ad00-90d3fa4e1266",
        "colab": {
          "base_uri": "https://localhost:8080/",
          "height": 58
        }
      },
      "execution_count": null,
      "outputs": [
        {
          "output_type": "execute_result",
          "data": {
            "text/plain": [
              "Matrix([\n",
              "[ 6,  8],\n",
              "[10, 12]])"
            ],
            "text/latex": "$\\displaystyle \\left[\\begin{matrix}6 & 8\\\\10 & 12\\end{matrix}\\right]$"
          },
          "metadata": {},
          "execution_count": 3
        }
      ]
    },
    {
      "cell_type": "code",
      "source": [
        "import sympy as sp\n",
        "\n",
        "A = sp.Matrix([[4, 2], [12, 4]])\n",
        "k = sp.Rational(1, 4)  # Define k as a rational number (1/4)\n",
        "\n",
        "B = k * A  # Calculate the product of A and k\n",
        "B           # Display the resulting matrix B"
      ],
      "metadata": {
        "id": "hsFizbvOQcd_",
        "outputId": "346f176c-53fc-405b-801a-780802a25429",
        "colab": {
          "base_uri": "https://localhost:8080/",
          "height": 58
        }
      },
      "execution_count": null,
      "outputs": [
        {
          "output_type": "execute_result",
          "data": {
            "text/plain": [
              "Matrix([\n",
              "[1, 1/2],\n",
              "[3,   1]])"
            ],
            "text/latex": "$\\displaystyle \\left[\\begin{matrix}1 & \\frac{1}{2}\\\\3 & 1\\end{matrix}\\right]$"
          },
          "metadata": {},
          "execution_count": 4
        }
      ]
    },
    {
      "cell_type": "code",
      "source": [
        "import sympy as sp\n",
        "\n",
        "A = sp.Matrix([[3, 2], [2, 4]])\n",
        "B = sp.Matrix([[4, 1], [6, 4]])\n",
        "\n",
        "# Calculate A⋅B\n",
        "AB = A * B\n",
        "\n",
        "# Calculate B⋅A\n",
        "BA = B * A\n",
        "\n",
        "# Display the results\n",
        "AB, BA"
      ],
      "metadata": {
        "id": "rpur-I8eB5BG",
        "outputId": "10652b77-95d9-4a20-a7e9-63ccc454528e",
        "colab": {
          "base_uri": "https://localhost:8080/"
        }
      },
      "execution_count": null,
      "outputs": [
        {
          "output_type": "execute_result",
          "data": {
            "text/plain": [
              "(Matrix([\n",
              " [24, 11],\n",
              " [32, 18]]),\n",
              " Matrix([\n",
              " [14, 12],\n",
              " [26, 28]]))"
            ]
          },
          "metadata": {},
          "execution_count": 2
        }
      ]
    },
    {
      "cell_type": "markdown",
      "source": [
        "# Matrix Calculations in Google Colab\n",
        "\n",
        "## 1. Calculate the sum of matrices\n",
        "Given matrices:  \n",
        "$$A = \\begin{bmatrix} 1 & 2 \\\\ 3 & 4 \\end{bmatrix} \\quad \\text{and} \\quad B = \\begin{bmatrix} 5 & 6 \\\\ 7 & 8 \\end{bmatrix}.$$  \n",
        "\n",
        "The sum of two matrices is calculated element-wise:  \n",
        "$$A + B = \\begin{bmatrix} 1+5 & 2+6 \\\\ 3+7 & 4+8 \\end{bmatrix} = \\begin{bmatrix} 6 & 8 \\\\ 10 & 12 \\end{bmatrix}.$$  \n",
        "\n",
        "**Answer:**  \n",
        "$$A + B = \\begin{bmatrix} 6 & 8 \\\\ 10 & 12 \\end{bmatrix}.$$\n",
        "\n",
        "---\n",
        "\n",
        "## 2. Calculate the product of a matrix and scalar\n",
        "Given matrix:  \n",
        "$$A = \\begin{bmatrix} 4 & 2 \\\\ 12 & 4 \\end{bmatrix}$$  \n",
        "and scalar:  \n",
        "$$k = \\frac{1}{4}.$$  \n",
        "\n",
        "The scalar multiplication is done by multiplying each element of the matrix by the scalar:  \n",
        "$$k \\cdot A = \\frac{1}{4} \\cdot \\begin{bmatrix} 4 & 2 \\\\ 12 & 4 \\end{bmatrix} = \\begin{bmatrix} \\frac{4}{4} & \\frac{2}{4} \\\\ \\frac{12}{4} & \\frac{4}{4} \\end{bmatrix} = \\begin{bmatrix} 1 & 0.5 \\\\ 3 & 1 \\end{bmatrix}.$$  \n",
        "\n",
        "**Answer:**  \n",
        "$$k \\cdot A = \\begin{bmatrix} 1 & 0.5 \\\\ 3 & 1 \\end{bmatrix}.$$\n",
        "\n",
        "---\n",
        "\n",
        "## 3. Calculate the products  A x B  and  B x A\n",
        "Given matrices:  \n",
        "$$A = \\begin{bmatrix} 3 & 2 \\\\ 2 & 4 \\end{bmatrix} \\quad \\text{and} \\quad B = \\begin{bmatrix} 4 & 1 \\\\ 6 & 4 \\end{bmatrix}.$$  \n",
        "\n",
        "### Step 1: Calculate  A x B  \n",
        "The product of two matrices is calculated as:  \n",
        "$$\n",
        "A \\cdot B = \\begin{bmatrix}\n",
        "(3 \\cdot 4 + 2 \\cdot 6) & (3 \\cdot 1 + 2 \\cdot 4) \\\\\n",
        "(2 \\cdot 4 + 4 \\cdot 6) & (2 \\cdot 1 + 4 \\cdot 4)\n",
        "\\end{bmatrix} = \\begin{bmatrix}\n",
        "12 + 12 & 3 + 8 \\\\\n",
        "8 + 24 & 2 + 16\n",
        "\\end{bmatrix} = \\begin{bmatrix}\n",
        "24 & 11 \\\\\n",
        "32 & 18\n",
        "\\end{bmatrix}.\n",
        "$$  \n",
        "\n",
        "### Step 2: Calculate  B x A   \n",
        "Similarly:  \n",
        "$$\n",
        "B \\cdot A = \\begin{bmatrix}\n",
        "(4 \\cdot 3 + 1 \\cdot 2) & (4 \\cdot 2 + 1 \\cdot 4) \\\\\n",
        "(6 \\cdot 3 + 4 \\cdot 2) & (6 \\cdot 2 + 4 \\cdot 4)\n",
        "\\end{bmatrix} = \\begin{bmatrix}\n",
        "12 + 2 & 8 + 4 \\\\\n",
        "18 + 8 & 12 + 16\n",
        "\\end{bmatrix} = \\begin{bmatrix}\n",
        "14 & 12 \\\\\n",
        "26 & 28\n",
        "\\end{bmatrix}.\n",
        "$$  \n",
        "\n",
        "**Answers:**  \n",
        "$$\n",
        "1. \\ A \\cdot B = \\begin{bmatrix} 24 & 11 \\\\ 32 & 18 \\end{bmatrix} \\\n",
        "2. \\ B \\cdot A = \\begin{bmatrix} 14 & 12 \\\\ 26 & 28 \\end{bmatrix} \\\n",
        "$$"
      ],
      "metadata": {
        "id": "-yNBIRJkDOr6"
      }
    }
  ],
  "metadata": {
    "kernelspec": {
      "display_name": "Python 3",
      "language": "python",
      "name": "python3"
    },
    "language_info": {
      "name": "python",
      "version": "3.11.9"
    },
    "colab": {
      "provenance": []
    }
  },
  "nbformat": 4,
  "nbformat_minor": 0
}