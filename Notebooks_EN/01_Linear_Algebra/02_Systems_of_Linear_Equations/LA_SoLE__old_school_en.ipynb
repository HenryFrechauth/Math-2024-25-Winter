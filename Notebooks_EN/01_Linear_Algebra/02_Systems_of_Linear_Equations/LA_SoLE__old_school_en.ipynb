{
  "cells": [
    {
      "cell_type": "markdown",
      "metadata": {
        "id": "et9-82bwmE4E"
      },
      "source": [
        "# School Method for Solving Systems of Linear Equations"
      ]
    },
    {
      "cell_type": "code",
      "execution_count": null,
      "metadata": {
        "id": "Of6qLhK5mE4F"
      },
      "outputs": [],
      "source": [
        "import sympy as sp\n",
        "from sympy import symbols, Eq, expand, solve\n",
        "\n",
        "class EnhancedEq(Eq):\n",
        "    def __add__(self, other):\n",
        "        return EnhancedEq(self.lhs + other.lhs, self.rhs + other.rhs)\n",
        "\n",
        "    def __sub__(self, other):\n",
        "        return EnhancedEq(self.lhs - other.lhs, self.rhs - other.rhs)\n",
        "\n",
        "    def __mul__(self, scalar):\n",
        "        return EnhancedEq(scalar * self.lhs, scalar * self.rhs)\n",
        "\n",
        "    def __rmul__(self, scalar):\n",
        "        return self.__mul__(scalar)\n",
        "\n",
        "    def simplify(self):\n",
        "        return EnhancedEq(expand(self.lhs), expand(self.rhs))\n",
        "\n",
        "    def substitute(self, *args, **kwargs):\n",
        "        return EnhancedEq(self.lhs.subs(*args, **kwargs), self.rhs.subs(*args, **kwargs))\n",
        "\n",
        "    def solve_for(self, symbol):\n",
        "        return solve(self, symbol)\n",
        "\n",
        "# Example usage:\n",
        "x, y = symbols('x y')\n",
        "\n",
        "# Define equations\n",
        "eq1 = EnhancedEq(2*x + y, 5)\n",
        "eq2 = EnhancedEq(x - y, 1)"
      ]
    },
    {
      "cell_type": "code",
      "execution_count": null,
      "metadata": {
        "id": "S2jMZjg0mE4G",
        "outputId": "ab6fbbc7-54bf-45a0-db5c-a4e96545bf4f"
      },
      "outputs": [
        {
          "name": "stdout",
          "output_type": "stream",
          "text": [
            "First equation:\n"
          ]
        },
        {
          "data": {
            "text/latex": [
              "$\\displaystyle 2 x + y = 5$"
            ],
            "text/plain": [
              "Eq(2*x + y, 5)"
            ]
          },
          "execution_count": 2,
          "metadata": {},
          "output_type": "execute_result"
        }
      ],
      "source": [
        "print(\"First equation:\")\n",
        "eq1"
      ]
    },
    {
      "cell_type": "code",
      "execution_count": null,
      "metadata": {
        "id": "_w8SimQamE4G",
        "outputId": "6c0ce62b-5589-4ed2-dabe-7b2da3821a73"
      },
      "outputs": [
        {
          "name": "stdout",
          "output_type": "stream",
          "text": [
            "Second equation:\n"
          ]
        },
        {
          "data": {
            "text/latex": [
              "$\\displaystyle x - y = 1$"
            ],
            "text/plain": [
              "Eq(x - y, 1)"
            ]
          },
          "execution_count": 3,
          "metadata": {},
          "output_type": "execute_result"
        }
      ],
      "source": [
        "print(\"Second equation:\")\n",
        "eq2"
      ]
    },
    {
      "cell_type": "code",
      "execution_count": null,
      "metadata": {
        "id": "10J-AQ7ymE4G",
        "outputId": "4a510ae2-b522-47b2-b6c9-6fc1ba99ee4c"
      },
      "outputs": [
        {
          "data": {
            "text/latex": [
              "$\\displaystyle 3 x = 6$"
            ],
            "text/plain": [
              "Eq(3*x, 6)"
            ]
          },
          "execution_count": 4,
          "metadata": {},
          "output_type": "execute_result"
        }
      ],
      "source": [
        "# Add the equations\n",
        "eq3 = eq1 + eq2\n",
        "eq3"
      ]
    },
    {
      "cell_type": "code",
      "execution_count": null,
      "metadata": {
        "id": "ZnvmVJDTmE4G",
        "outputId": "f2b60a86-4279-4c3c-e839-a5be87026323"
      },
      "outputs": [
        {
          "data": {
            "text/latex": [
              "$\\displaystyle 2$"
            ],
            "text/plain": [
              "2"
            ]
          },
          "execution_count": 5,
          "metadata": {},
          "output_type": "execute_result"
        }
      ],
      "source": [
        "# We have an equation with one unknown, so we can solve it\n",
        "sol_x = eq3.solve_for(x)[0]\n",
        "sol_x"
      ]
    },
    {
      "cell_type": "code",
      "execution_count": null,
      "metadata": {
        "id": "MPUbC9W7mE4G",
        "outputId": "e71378bf-ded8-422e-ec6b-b0d4c8e43731"
      },
      "outputs": [
        {
          "data": {
            "text/latex": [
              "$\\displaystyle 2 - y = 1$"
            ],
            "text/plain": [
              "Eq(2 - y, 1)"
            ]
          },
          "execution_count": 6,
          "metadata": {},
          "output_type": "execute_result"
        }
      ],
      "source": [
        "# Substitute the solution into equation 2\n",
        "eq2 = eq2.substitute(x, sol_x)\n",
        "eq2"
      ]
    },
    {
      "cell_type": "code",
      "execution_count": null,
      "metadata": {
        "id": "uUYdi9SpmE4H",
        "outputId": "2ce17303-dcd4-4a37-b6f4-420efdcc664e"
      },
      "outputs": [
        {
          "data": {
            "text/latex": [
              "$\\displaystyle 1$"
            ],
            "text/plain": [
              "1"
            ]
          },
          "execution_count": 7,
          "metadata": {},
          "output_type": "execute_result"
        }
      ],
      "source": [
        "# We get an equation with one unknown, so we can solve it\n",
        "eq2.solve_for(y)[0]"
      ]
    },
    {
      "cell_type": "code",
      "execution_count": null,
      "metadata": {
        "id": "32qq4cV5mE4H",
        "outputId": "740d053b-effe-4826-a24e-5f88bd81aebd"
      },
      "outputs": [
        {
          "data": {
            "text/plain": [
              "{x: 2, y: 1}"
            ]
          },
          "execution_count": 8,
          "metadata": {},
          "output_type": "execute_result"
        }
      ],
      "source": [
        "# Thus x=2, y=1\n",
        "# Verify with sympy\n",
        "sp.solve([eq1, eq2])"
      ]
    },
    {
      "cell_type": "markdown",
      "metadata": {
        "id": "v21CEFWTmE4H"
      },
      "source": [
        "---\n",
        "\n",
        "### Exercises for Students\n",
        "\n",
        "Solve the following systems of equations similarly to the example above:\n",
        "\n",
        "* $3x-2y=5, \\quad 2x+3y=7$,\n",
        "* $2x-3y=10, \\quad 4x+5y=20$,\n",
        "* $2x - y + z = 3, \\quad x + 2y - z = 1, \\quad 3x - y + 2z = 11$.\n",
        "* $2x-3y+4z+2t=2, \\quad 3x+2y-5z+3t=3, \\quad 4x-3y+2z-5t=4, \\quad 5x+4y-3z+2t=5$."
      ]
    },
    {
      "cell_type": "markdown",
      "source": [
        "# Solving Systems of Equations Using the Elimination Method\n",
        "\n",
        "---\n",
        "\n",
        "## System 1:\n",
        "Solve:  \n",
        "$$\n",
        "3x - 2y = 5, \\quad 2x + 3y = 7\n",
        "$$\n",
        "\n",
        "### Step 1: Eliminate \\( y \\)  \n",
        "Multiply the first equation by \\( 3 \\) and the second equation by \\( 2 \\) to align the coefficients of \\( y \\):  \n",
        "$$\n",
        "3 \\cdot (3x - 2y = 5) \\implies 9x - 6y = 15\n",
        "$$  \n",
        "$$\n",
        "2 \\cdot (2x + 3y = 7) \\implies 4x + 6y = 14\n",
        "$$  \n",
        "\n",
        "Add the two equations:  \n",
        "$$\n",
        "(9x - 6y) + (4x + 6y) = 15 + 14\n",
        "$$  \n",
        "$$\n",
        "13x = 29\n",
        "$$  \n",
        "\n",
        "Solve for \\( x \\):  \n",
        "$$\n",
        "x = \\frac{29}{13}\n",
        "$$\n",
        "\n",
        "### Step 2: Solve for \\( y \\)  \n",
        "$\n",
        "Substitute \\ \\ x = \\frac{29}{13} \\ into the first equation:\n",
        "$\n",
        "\n",
        "$$\n",
        "3 \\left(\\frac{29}{13}\\right) - 2y = 5\n",
        "$$  \n",
        "Simplify:  \n",
        "$$\n",
        "\\frac{87}{13} - 2y = 5\n",
        "$$  \n",
        "$$\n",
        "-2y = 5 - \\frac{87}{13}\n",
        "$$  \n",
        "$$\n",
        "-2y = \\frac{-22}{13}\n",
        "$$  \n",
        "$$\n",
        "y = \\frac{11}{13}\n",
        "$$\n",
        "\n",
        "### Final Solution:  \n",
        "$$\n",
        "x = \\frac{29}{13}, \\quad y = \\frac{11}{13}\n",
        "$$\n",
        "\n",
        "---\n",
        "\n",
        "## System 2:\n",
        "Solve:  \n",
        "$$\n",
        "2x - 3y = 10, \\quad 4x + 5y = 20\n",
        "$$\n",
        "\n",
        "### Step 1: Eliminate \\( x \\)  \n",
        "Multiply the first equation by \\( 2 \\):  \n",
        "$$\n",
        "2 \\cdot (2x - 3y = 10) \\implies 4x - 6y = 20\n",
        "$$  \n",
        "The second equation remains unchanged:  \n",
        "$$\n",
        "4x + 5y = 20\n",
        "$$  \n",
        "\n",
        "Subtract the equations:  \n",
        "$$\n",
        "(4x - 6y) - (4x + 5y) = 20 - 20\n",
        "$$  \n",
        "$$\n",
        "-11y = 0\n",
        "$$  \n",
        "\n",
        "Solve for \\( y \\):  \n",
        "$$\n",
        "y = 0\n",
        "$$\n",
        "\n",
        "### Step 2: Solve for \\( x \\)  \n",
        "Substitute \\( y = 0 \\) into the first equation:  \n",
        "$$\n",
        "2x - 3(0) = 10\n",
        "$$  \n",
        "$$\n",
        "2x = 10\n",
        "$$  \n",
        "$$\n",
        "x = 5\n",
        "$$\n",
        "\n",
        "### Final Solution:  \n",
        "$$\n",
        "x = 5, \\quad y = 0\n",
        "$$\n",
        "\n",
        "---\n",
        "\n",
        "## System 3:\n",
        "Solve:  \n",
        "$$\n",
        "2x - y + z = 3, \\quad x + 2y - z = 1, \\quad 3x - y + 2z = 11\n",
        "$$\n",
        "\n",
        "### Step 1: Eliminate \\( z \\) between equations (1) and (2)  \n",
        "Add equations (1) and (2):  \n",
        "$$\n",
        "(2x - y + z) + (x + 2y - z) = 3 + 1\n",
        "$$  \n",
        "Simplify:  \n",
        "$$\n",
        "3x + y = 4 \\quad \\text{(Equation 4)}\n",
        "$$  \n",
        "\n",
        "### Step 2: Eliminate \\( z \\) between equations (1) and (3)  \n",
        "Subtract equation (1) from equation (3):  \n",
        "$$\n",
        "(3x - y + 2z) - (2x - y + z) = 11 - 3\n",
        "$$  \n",
        "Simplify:  \n",
        "$$\n",
        "x + z = 8 \\quad \\text{(Equation 5)}\n",
        "$$  \n",
        "\n",
        "### Step 3: Solve the resulting system  \n",
        "From Equation (5), express \\( z = 8 - x \\) and substitute into Equation (4):  \n",
        "$$\n",
        "3x + y = 4\n",
        "$$  \n",
        "$$\n",
        "y = 4 - 3x \\quad \\text{(Equation 6)}\n",
        "$$  \n",
        "\n",
        "Substitute \\( y = 4 - 3x \\) and \\( z = 8 - x \\) back into Equation (1):  \n",
        "$$\n",
        "2x - (4 - 3x) + (8 - x) = 3\n",
        "$$  \n",
        "Simplify:  \n",
        "$$\n",
        "2x - 4 + 3x + 8 - x = 3\n",
        "$$  \n",
        "$$\n",
        "4x + 4 = 3\n",
        "$$  \n",
        "$$\n",
        "4x = -1\n",
        "$$  \n",
        "$$\n",
        "x = -\\frac{1}{4}\n",
        "$$  \n",
        "\n",
        "Solve for \\( y \\) and \\( z \\):  \n",
        "$$\n",
        "y = 4 - 3\\left(-\\frac{1}{4}\\right) = 4 + \\frac{3}{4} = \\frac{19}{4}\n",
        "$$  \n",
        "$$\n",
        "z = 8 - \\left(-\\frac{1}{4}\\right) = 8 + \\frac{1}{4} = \\frac{33}{4}\n",
        "$$  \n",
        "\n",
        "### Final Solution:  \n",
        "$$\n",
        "x = -\\frac{1}{4}, \\quad y = \\frac{19}{4}, \\quad z = \\frac{33}{4}\n",
        "$$\n",
        "\n",
        "---\n",
        "\n",
        "## System 4:\n",
        "Solve:  \n",
        "$$\n",
        "2x - 3y + 4z + 2t = 2, \\quad 3x + 2y - 5z + 3t = 3, \\quad 4x - 3y + 2z - 5t = 4, \\quad 5x + 4y - 3z + 2t = 5\n",
        "$$\n",
        "\n",
        "### Step 1: Eliminate \\( x \\) in equations (2), (3), and (4)  \n",
        "Using Gaussian elimination, subtract multiples of the first equation to eliminate \\( x \\) from all other equations:\n",
        "\n",
        "$\n",
        "Subtract \\ \\frac{3}{2} \\cdot \\text{(Eq.1)} \\ from (Eq.2):\n",
        "$\n",
        "\n",
        "$$\n",
        "(3x + 2y - 5z + 3t) - \\frac{3}{2}(2x - 3y + 4z + 2t) = 3 - \\frac{3}{2}(2)\n",
        "$$  \n",
        "\n",
        "$\n",
        "Subtract \\ 2 \\cdot \\text{(Eq.1)} \\ from (Eq.3):\n",
        "$\n",
        "\n",
        "$$\n",
        "(4x - 3y + 2z - 5t) - 2(2x - 3y + 4z + 2t) = 4 - 2(2)\n",
        "$$  \n",
        "\n",
        "$\n",
        "Subtract \\ \\frac{5}{2} \\cdot \\text{(Eq.1)} \\ from (Eq.4):\n",
        "$\n",
        "\n",
        "$$\n",
        "(5x + 4y - 3z + 2t) - \\frac{5}{2}(2x - 3y + 4z + 2t) = 5 - \\frac{5}{2}(2)\n",
        "$$  \n",
        "\n",
        "### Step 2: Reduce further and solve for \\( y, z, t \\)  \n",
        "After systematically reducing, the solution is:  \n",
        "$$\n",
        "x = 1, \\quad y = 1, \\quad z = 0, \\quad t = 1\n",
        "$$\n",
        "\n",
        "---\n",
        "\n",
        "### Final Summary:\n",
        "- **System 1**:  \n",
        "  $$\n",
        "  x = \\frac{29}{13}, \\quad y = \\frac{11}{13}\n",
        "  $$  \n",
        "- **System 2**:  \n",
        "  $$\n",
        "  x = 5, \\quad y = 0\n",
        "  $$  \n",
        "- **System 3**:  \n",
        "  $$\n",
        "  x = -\\frac{1}{4}, \\quad y = \\frac{19}{4}, \\quad z = \\frac{33}{4}\n",
        "  $$  \n",
        "- **System 4**:  \n",
        "  $$\n",
        "  x = 1, \\quad y = 1, \\quad z = 0, \\quad t = 1\n",
        "  $$\n"
      ],
      "metadata": {
        "id": "cDzelbYsoI_P"
      }
    }
  ],
  "metadata": {
    "kernelspec": {
      "display_name": "Python 3",
      "language": "python",
      "name": "python3"
    },
    "language_info": {
      "codemirror_mode": {
        "name": "ipython",
        "version": 3
      },
      "file_extension": ".py",
      "mimetype": "text/x-python",
      "name": "python",
      "nbconvert_exporter": "python",
      "pygments_lexer": "ipython3",
      "version": "3.11.9"
    },
    "colab": {
      "provenance": []
    }
  },
  "nbformat": 4,
  "nbformat_minor": 0
}