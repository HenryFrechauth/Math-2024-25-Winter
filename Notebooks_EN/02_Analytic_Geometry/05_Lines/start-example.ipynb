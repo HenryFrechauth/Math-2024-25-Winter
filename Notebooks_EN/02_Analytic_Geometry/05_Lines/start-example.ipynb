{
  "nbformat": 4,
  "nbformat_minor": 0,
  "metadata": {
    "colab": {
      "provenance": []
    },
    "kernelspec": {
      "name": "python3",
      "display_name": "Python 3"
    },
    "language_info": {
      "name": "python"
    }
  },
  "cells": [
    {
      "cell_type": "markdown",
      "source": [
        "# 14\n",
        "# Useful Formulas and Notes\n",
        "\n",
        "## 1. Equation of a line passing through points $A(1, 2)$ and $B(3, 4)$\n",
        "- **Formula for the slope $m$**:\n",
        "  $$\n",
        "  m = \\frac{y_2 - y_1}{x_2 - x_1}\n",
        "  $$\n",
        "- **Point-slope form**:\n",
        "  $$\n",
        "  y - y_1 = m(x - x_1)\n",
        "  $$\n",
        "\n",
        "## 2. Equation of a line passing through point $A(1, 2)$ and parallel to $y = 2x + 3$\n",
        "- A parallel line has the **same slope**. If $y = mx + b$, the slope is $m$.\n",
        "- Use the **point-slope form**:\n",
        "  $$\n",
        "  y - y_1 = m(x - x_1)\n",
        "  $$\n",
        "\n",
        "## 3. Equation of a line passing through point $A(1, 2)$ and perpendicular to $y = 2x + 3$\n",
        "- **Perpendicular slope**:\n",
        "  $$\n",
        "  m_{\\text{perpendicular}} = -\\frac{1}{m}\n",
        "  $$\n",
        "  where $m$ is the slope of the given line.\n",
        "- Use the **point-slope form**:\n",
        "  $$\n",
        "  y - y_1 = m(x - x_1)\n",
        "  $$\n",
        "\n",
        "## 4. Intersection and angle between $y = 2x + 3$ and $y = 3x + 2$\n",
        "- **Intersection point**: Solve the system of equations:\n",
        "  $$\n",
        "  y = 2x + 3, \\quad y = 3x + 2\n",
        "  $$\n",
        "- **Angle between lines**:\n",
        "  $$\n",
        "  \\tan \\theta = \\left|\\frac{m_2 - m_1}{1 + m_1m_2}\\right|\n",
        "  $$\n",
        "  where $m_1, m_2$ are the slopes of the lines.\n",
        "\n",
        "## 5. Line passing through $A(1, 2)$ and parallel to vector $\\vec{v} = [2, 3]$\n",
        "- A direction vector $[a, b]$ gives the slope:\n",
        "  $$\n",
        "  m = \\frac{b}{a}\n",
        "  $$\n",
        "- Use the **point-slope form**:\n",
        "  $$\n",
        "  y - y_1 = m(x - x_1)\n",
        "  $$\n",
        "\n",
        "## 6. Example of a line perpendicular and parallel to $y = 2x + 3$\n",
        "- **Parallel**: Same slope $m = 2$, e.g., $y = 2x + c$, where $c$ is a constant.\n",
        "- **Perpendicular**: Slope $m = -\\frac{1}{2}$, e.g., $y = -\\frac{1}{2}x + c$.\n",
        "\n",
        "## 7. Distance from $A(1, 2)$ to the line $y = 2x + 3$\n",
        "- Convert to standard form $Ax + By + C = 0$:\n",
        "  $$\n",
        "  -2x + y - 3 = 0\n",
        "  $$\n",
        "- **Distance formula**:\n",
        "  $$\n",
        "  d = \\frac{|Ax_1 + By_1 + C|}{\\sqrt{A^2 + B^2}}\n",
        "  $$\n",
        "\n",
        "## 8. Line intersecting coordinate axes at $A(2, 0)$ and $B(0, 3)$\n",
        "- Use the **two-point form**:\n",
        "  $$\n",
        "  \\frac{x}{x_1} + \\frac{y}{y_2} = 1\n",
        "  $$\n",
        "  Simplify to get the equation.\n",
        "\n",
        "## 9. Angle between the line $y = x + 3$ and the $Ox$-axis\n",
        "- Slope $m = 1$.\n",
        "- **Angle with $Ox$-axis**:\n",
        "  $$\n",
        "  \\theta = \\arctan(m)\n",
        "  $$\n",
        "\n",
        "## 10. Perpendicular vector to $x + y + 1 = 0$\n",
        "- In the standard form $Ax + By + C = 0$, a vector perpendicular to the line is:\n",
        "  $$\n",
        "  \\vec{n} = [A, B]\n",
        "  $$\n",
        "  For $x + y + 1 = 0$, $\\vec{n} = [1, 1]$.\n"
      ],
      "metadata": {
        "id": "yMjql47sNyh3"
      }
    },
    {
      "cell_type": "markdown",
      "source": [
        "# Line or whatever subject\n",
        "\n",
        "Write notes on your own! In each geometry folder make a separate file. Use ChatGPT to generate notes based on list of topics:\n",
        "\n",
        "\tAnalytical Geometry\n",
        "\n",
        "\tLines\n",
        "\tTypes of line equations in the plane.\n",
        "\tGeneral equation of a line.\n",
        "\tCanonical equation of a line.\n",
        "\tLine equation in intercept form on the coordinate axes.\n",
        "\tLine equation in slope form.\n",
        "\tLine equation passing through a given point in a given direction.\n",
        "\tLine equation passing through two given points.\n",
        "\tRelative positions of lines in the plane.\n",
        "\tIntersection of two lines.\n",
        "\tAngle between two lines.\n",
        "\tConditions for parallelism and perpendicularity of two lines.\n",
        "\n",
        "\tPlanes\n",
        "\tPlanes in space.\n",
        "\tVector equation of a plane.\n",
        "\tGeneral equation of a plane.\n",
        "\tPlane equation passing through three points.\n",
        "\tPlane equation in intercept form on the coordinate axes.\n",
        "\tSpecial cases of plane positioning.\n",
        "\tAngle between two planes.\n",
        "\tConditions for parallelism and perpendicularity of two planes.\n",
        "\tLine in space.\n",
        "\tTypes of line equations in space.\n",
        "\tRelative positions of a line and a plane.\n",
        "\tRelative positions of two lines.\n",
        "\tAngle between a line and a plane.\n",
        "\n",
        "\tSecond-Order Curves\n",
        "\tCanonical equations of the circle, ellipse, hyperbola, and parabola.\n",
        "\tEquations of second-order curves with a shifted center.\n",
        "\tReduction of the general second-order curve equation to canonical form.\n",
        "\n",
        "\tSecond-Order Surfaces\n",
        "\tGeneral equations of the ellipsoid, sphere, and hyperboloid.\n",
        "\tRotational surfaces.\n"
      ],
      "metadata": {
        "id": "SVa9rLOXgzJe"
      }
    },
    {
      "cell_type": "markdown",
      "source": [
        "# Conic Sections - Useful Formulas and Notes\n",
        "\n",
        "## 1. Equation of a circle with center at $A(1, 2)$ and radius $r=3$\n",
        "- **Standard form of a circle**:\n",
        "  $$\n",
        "  (x - h)^2 + (y - k)^2 = r^2\n",
        "  $$\n",
        "  where $(h, k)$ is the center and $r$ is the radius.\n",
        "\n",
        "## 2. Equation of a parabola intersecting the $Ox$ axis at points $x=2$, $x=4$, and passing through $y(3)=1$\n",
        "- A parabola intersecting the $Ox$ axis at $x=a$ and $x=b$ can be written as:\n",
        "  $$\n",
        "  y = k(x - a)(x - b)\n",
        "  $$\n",
        "- Use the given point $(3, 1)$ to find $k$ by substitution.\n",
        "\n",
        "## 3. Center of the ellipse with the equation $x^2 + 4y^2 - 4x - 16y + 16 = 0$\n",
        "- Rewrite the equation in standard form by **completing the square**:\n",
        "  1. Group $x$-terms and $y$-terms.\n",
        "  2. Complete the square for each variable.\n",
        "- Standard form of an ellipse:\n",
        "  $$\n",
        "  \\frac{(x - h)^2}{a^2} + \\frac{(y - k)^2}{b^2} = 1\n",
        "  $$\n",
        "  where $(h, k)$ is the center.\n",
        "\n",
        "## 4. Slope ($m > 0$) of the line $y=mx-5$ tangent to the circle $x^2 + y^2 = 1$\n",
        "- The condition for tangency between a line $y = mx + c$ and a circle $x^2 + y^2 = r^2$:\n",
        "  $$\n",
        "  \\frac{|c|}{\\sqrt{1 + m^2}} = r\n",
        "  $$\n",
        "- For $r = 1$ and $c = -5$, solve for $m > 0$.\n",
        "\n",
        "## 5. Intersection points of the hyperbola $x^2 - y^2 = 1$ with the ellipse $x^2 + 4y^2 = 6$\n",
        "- Solve the system of equations:\n",
        "  1. $x^2 - y^2 = 1$\n",
        "  2. $x^2 + 4y^2 = 6$\n",
        "- Use substitution or elimination to find the points of intersection.\n",
        "\n",
        "## 6. Distance between the branches of the hyperbola $x^2 - y^2 = 1$\n",
        "- **Standard form of a hyperbola**:\n",
        "  $$\n",
        "  \\frac{x^2}{a^2} - \\frac{y^2}{b^2} = 1\n",
        "  $$\n",
        "- The distance between the branches is:\n",
        "  $$\n",
        "  \\text{Distance} = 2b\n",
        "  $$\n",
        "  where $b = \\sqrt{c^2 - a^2}$ and $c$ is the distance from the center to the foci.\n",
        "\n",
        "---\n",
        "\n",
        "## Visualization\n",
        "- Use tools like **Python (Matplotlib or SymPy), GeoGebra, or Wolfram Alpha** to:\n",
        "  - Plot each conic section.\n",
        "  - Verify solutions visually.\n",
        "  - Analyze intersections and tangents.\n",
        "\n",
        "Let me know if you want detailed solutions or Python scripts for these problems!\n"
      ],
      "metadata": {
        "id": "Qi3Rnr0VbD96"
      }
    },
    {
      "cell_type": "markdown",
      "source": [],
      "metadata": {
        "id": "dz6LBVi7NwXe"
      }
    },
    {
      "cell_type": "markdown",
      "source": [
        "## Magic formula for ChatGPT\n",
        "\n",
        "**Ask ChatpGPT from OpenAI, Cloude, Full Gemini (don't use Gemini here because it is too small model to handle it):**\n",
        "\n",
        "\n",
        "\n",
        "> Please generate me markdown code academic notes, with plenty of equations (harvard student notes!) for the given list of topics below. As I need it for colab and github make sure you give all equations and math formula using $...$ and $$...$$.\n",
        "\n",
        "List of topics to cover:\n",
        "\n",
        "Types of line equations in the plane.\n",
        "General equation of a line.\n",
        "Canonical equation of a line.\n",
        "Line equation in intercept form on the coordinate axes.\n",
        "Line equation in slope form.\n",
        "Line equation passing through a given point in a given direction.\n",
        "Line equation passing through two given points.\n",
        "Relative positions of lines in the plane.\n",
        "Intersection of two lines.\n",
        "Angle between two lines.\n",
        "Conditions for parallelism and perpendicularity of two lines.\n",
        "\n",
        "\n",
        "\n"
      ],
      "metadata": {
        "id": "5SDlikNRhas0"
      }
    },
    {
      "cell_type": "markdown",
      "source": [],
      "metadata": {
        "id": "YBha9MC0howb"
      }
    },
    {
      "cell_type": "code",
      "execution_count": null,
      "metadata": {
        "colab": {
          "base_uri": "https://localhost:8080/"
        },
        "id": "-IWVfobGgyjY",
        "outputId": "efec93f1-b0ca-47ae-c69b-df9b6f27e33d"
      },
      "outputs": [
        {
          "output_type": "execute_result",
          "data": {
            "text/plain": [
              "5"
            ]
          },
          "metadata": {},
          "execution_count": 1
        }
      ],
      "source": [
        "2+3\n"
      ]
    },
    {
      "cell_type": "markdown",
      "source": [
        "# Exercies copied from github markdowns!\n",
        "\n",
        "(that are no openable in colab!) We like everything in one place, so visit your github directly in browser and just enter edit and copy markdown code."
      ],
      "metadata": {
        "id": "6-kVkPFog8NZ"
      }
    },
    {
      "cell_type": "markdown",
      "source": [
        "# Solutions\n",
        "\n",
        "Text..."
      ],
      "metadata": {
        "id": "3wgcdwT5hFQH"
      }
    },
    {
      "cell_type": "code",
      "source": [],
      "metadata": {
        "id": "LqItIWt0g7mb"
      },
      "execution_count": null,
      "outputs": []
    }
  ]
}