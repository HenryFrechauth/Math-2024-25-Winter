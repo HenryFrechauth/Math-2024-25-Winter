{
  "nbformat": 4,
  "nbformat_minor": 0,
  "metadata": {
    "colab": {
      "provenance": []
    },
    "kernelspec": {
      "name": "python3",
      "display_name": "Python 3"
    },
    "language_info": {
      "name": "python"
    }
  },
  "cells": [
    {
      "cell_type": "markdown",
      "source": [
        "# Exercise 3: Check if \\( f(g(x)) = x \\) and \\( g(f(x)) = x \\)\n",
        "\n",
        "We are working with two rules (functions):\n",
        "- \\( f(x) = e^x \\), which turns \\( x \\) into \\( e^x \\).\n",
        "- \\( g(x) = \\ln(x) \\), which asks, \"What power of \\( e \\) gives me \\( x \\)?\"\n",
        "\n",
        "### Step 1: Find \\( f(g(x)) \\)\n",
        "1. Start with \\( g(x) = \\ln(x) \\).\n",
        "2. Put it into \\( f(x) \\):\n",
        "   $$\n",
        "   f(g(x)) = f(\\ln(x)) = e^{\\ln(x)}\n",
        "   $$\n",
        "3. Since \\( e^{\\ln(x)} = x \\), we get:\n",
        "   $$\n",
        "   f(g(x)) = x\n",
        "   $$\n",
        "\n",
        "### Step 2: Find \\( g(f(x)) \\)\n",
        "1. Start with \\( f(x) = e^x \\).\n",
        "2. Put it into \\( g(x) \\):\n",
        "   $$\n",
        "   g(f(x)) = g(e^x) = \\ln(e^x)\n",
        "   $$\n",
        "3. Since\n",
        "$\n",
        "\\ \\ln(e^x) = x \\, we get:\n",
        "$\n",
        "   $$\n",
        "   g(f(x)) = x\n",
        "   $$\n",
        "\n",
        "### Result:\n",
        "Both \\( f(g(x)) = x \\) and \\( g(f(x)) = x \\). These two functions undo each other—they are **inverses**!\n"
      ],
      "metadata": {
        "id": "vZ6bMXhttpq0"
      }
    },
    {
      "cell_type": "markdown",
      "source": [
        "# Exercise 4: Find the Inverse of \\( f = \\{(1, 7), (2, 9), (3, 11)\\} \\)\n",
        "\n",
        "An inverse is like flipping the machine: it switches \\( x \\)-values and \\( y \\)-values.\n",
        "\n",
        "### Step 1: Start with the original pairs\n",
        "The original function is:\n",
        "$$\n",
        "f = \\{(1, 7), (2, 9), (3, 11)\\}\n",
        "$$\n",
        "\n",
        "### Step 2: Swap \\( x \\) and \\( y \\) in each pair\n",
        "- Swap \\( (1, 7) \\) → \\( (7, 1) \\)\n",
        "- Swap \\( (2, 9) \\) → \\( (9, 2) \\)\n",
        "- Swap \\( (3, 11) \\) → \\( (11, 3) \\)\n",
        "\n",
        "### Result:\n",
        "The inverse is:\n",
        "$$\n",
        "f^{-1} = \\{(7, 1), (9, 2), (11, 3)\\}\n",
        "$$\n"
      ],
      "metadata": {
        "id": "Md9i7S0VuOFn"
      }
    },
    {
      "cell_type": "markdown",
      "source": [
        "# Exercise 5: Find the Inverse of \\( f = \\{(1, 7), (2, 7), (3, 11)\\} \\)\n",
        "\n",
        "An inverse switches the \\( x \\)-values and \\( y \\)-values. Let's figure out if the inverse is a **function** or not.\n",
        "\n",
        "### Step 1: Start with the original pairs\n",
        "The original function is:\n",
        "$$\n",
        "f = \\{(1, 7), (2, 7), (3, 11)\\}\n",
        "$$\n",
        "\n",
        "### Step 2: Swap \\( x \\) and \\( y \\) in each pair\n",
        "- Swap \\( (1, 7) \\) → \\( (7, 1) \\)\n",
        "- Swap \\( (2, 7) \\) → \\( (7, 2) \\)\n",
        "- Swap \\( (3, 11) \\) → \\( (11, 3) \\)\n",
        "\n",
        "### Step 3: Write the result\n",
        "The inverse is:\n",
        "$$\n",
        "f^{-1} = \\{(7, 1), (7, 2), (11, 3)\\}\n",
        "$$\n",
        "\n",
        "### Step 4: Check if it is a function\n",
        "- A function cannot have one input giving two outputs.\n",
        "- Here, \\( 7 \\) maps to \\( 1 \\) and \\( 2 \\):\n",
        "  $$\n",
        "  (7, 1) \\text{ and } (7, 2)\n",
        "  $$\n",
        "- This means the inverse is **not a function**. It is just a relation.\n",
        "\n",
        "### Final Answer:\n",
        "The inverse relation is:\n",
        "$$\n",
        "f^{-1} = \\{(7, 1), (7, 2), (11, 3)\\}\n",
        "$$\n",
        "But it is **not a function**.\n"
      ],
      "metadata": {
        "id": "VZW1gR0quWRD"
      }
    }
  ]
}