{
  "nbformat": 4,
  "nbformat_minor": 0,
  "metadata": {
    "colab": {
      "provenance": []
    },
    "kernelspec": {
      "name": "python3",
      "display_name": "Python 3"
    },
    "language_info": {
      "name": "python"
    }
  },
  "cells": [
    {
      "cell_type": "markdown",
      "source": [
        "## **1. Compute:**  \n",
        "$$\n",
        "\\lim_{x \\to \\infty} \\frac{x^3 + 2x^2}{x^4 - 3x^3}\n",
        "$$\n",
        "\n",
        "**Step 1:** Look at the highest powers of \\(x\\) in the numerator and denominator.  \n",
        "- The highest power of \\(x\\) in the numerator is \\(x^3\\).  \n",
        "- The highest power of \\(x\\) in the denominator is \\(x^4\\).\n",
        "\n",
        "**Step 2:** Divide both the numerator and denominator by \\(x^4\\) (since \\(x^4\\) is the highest power in the denominator).\n",
        "\n",
        "$$\n",
        "= \\lim_{x \\to \\infty} \\frac{\\frac{x^3}{x^4} + \\frac{2x^2}{x^4}}{\\frac{x^4}{x^4} - \\frac{3x^3}{x^4}}\n",
        "$$\n",
        "\n",
        "Simplifying each term:\n",
        "\n",
        "$$\n",
        "= \\lim_{x \\to \\infty} \\frac{\\frac{1}{x} + \\frac{2}{x^2}}{1 - \\frac{3}{x}}\n",
        "$$\n",
        "\n",
        "**Step 3:** As \\(x\\) becomes really large $x \\to \\infty$, the terms\n",
        "\n",
        "$\\\\frac{1}{x}\\$,\n",
        "\n",
        "$\\\\frac{2}{x^2}\\$, and\n",
        "\n",
        "$\\\\frac{3}{x}\\$ all become very small and approach zero.\n",
        "\n",
        "$$\n",
        "= \\frac{0 + 0}{1 - 0} = \\frac{0}{1} = 0\n",
        "$$"
      ],
      "metadata": {
        "id": "xtHRbUUbLIQp"
      }
    },
    {
      "cell_type": "markdown",
      "source": [
        "## **2. Find:**  \n",
        "$$\n",
        "\\lim_{x \\to 0} \\frac{\\sin(3x)}{2x + 1}\n",
        "$$\n",
        "\n",
        "**Step 1:** Directly substitute \\(x = 0\\) into the expression.\n",
        "\n",
        "$$\n",
        "= \\frac{\\sin(3 \\cdot 0)}{2 \\cdot 0 + 1} = \\frac{\\sin(0)}{1} = \\frac{0}{1} = 0\n",
        "$$\n"
      ],
      "metadata": {
        "id": "BMbOqHTJLnv6"
      }
    },
    {
      "cell_type": "markdown",
      "source": [
        "## **3. Find the asymptotes of the functions:**  \n",
        "\n",
        "### (a)\n",
        "$\\ f(x) = \\frac{x^2 - 1}{x^2 + 1}\\$\n",
        "\n",
        "**Step 1: Find vertical asymptotes.**  \n",
        "Vertical asymptotes occur where the denominator is zero. We solve:\n",
        "\n",
        "$$\n",
        "x^2 + 1 = 0\n",
        "$$\n",
        "\n",
        "Since \\(x^2 + 1\\) is never zero for real \\(x\\) (because \\(x^2\\) is always positive and adding 1 makes it even larger), there are **no vertical asymptotes**.\n",
        "\n",
        "**Step 2: Find horizontal asymptotes.**  \n",
        "To find horizontal asymptotes, we look at the behavior of the function as $\\ x \\to \\infty\\ or \\ x \\to -\\infty\\$.  \n",
        "\n",
        "Divide the numerator and denominator by \\(x^2\\):\n",
        "\n",
        "$$\n",
        "f(x) = \\frac{\\frac{x^2}{x^2} - \\frac{1}{x^2}}{\\frac{x^2}{x^2} + \\frac{1}{x^2}} = \\frac{1 - \\frac{1}{x^2}}{1 + \\frac{1}{x^2}}\n",
        "$$\n",
        "\n",
        "As $x \\to \\infty\\$, the terms\n",
        "\n",
        "$\\\\frac{1}{x^2}\\$ approach 0, so:\n",
        "\n",
        "$$\n",
        "f(x) \\to \\frac{1 - 0}{1 + 0} = 1\n",
        "$$\n",
        "\n",
        "Thus, the horizontal asymptote is:\n",
        "\n",
        "$$\n",
        "y = 1\n",
        "$$\n",
        "\n",
        "---\n",
        "\n",
        "### (b)\n",
        "$g(x) = \\frac{\\sin(x)}{x^2 + 1}\\$\n",
        "\n",
        "**Step 1: Find vertical asymptotes.**  \n",
        "Vertical asymptotes occur where the denominator is zero. Solve:\n",
        "\n",
        "$$\n",
        "x^2 + 1 = 0\n",
        "$$\n",
        "\n",
        "Again, since $x^2 + 1\\$ is never zero for real \\(x\\), there are **no vertical asymptotes**.\n",
        "\n",
        "**Step 2: Find horizontal asymptotes.**  \n",
        "To find horizontal asymptotes, we analyze the limit as \\(x \\to \\infty\\) or \\(x \\to -\\infty\\).  \n",
        "\n",
        "Since $\\\\sin(x)\\$ is always bounded between \\(-1\\) and \\(1\\), and the denominator \\(x^2 + 1\\) becomes very large as \\(x\\) grows, the fraction becomes very small.\n",
        "\n",
        "$$\n",
        "\\lim_{x \\to \\infty} g(x) = 0\n",
        "\\quad \\text{and} \\quad \\lim_{x \\to -\\infty} g(x) = 0\n",
        "$$\n",
        "\n",
        "Thus, the horizontal asymptote is:\n",
        "\n",
        "$$\n",
        "y = 0\n",
        "$$"
      ],
      "metadata": {
        "id": "ZFCwjD9XLtHy"
      }
    }
  ]
}